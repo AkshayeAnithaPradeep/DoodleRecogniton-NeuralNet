{
 "cells": [
  {
   "cell_type": "code",
   "execution_count": 2,
   "metadata": {},
   "outputs": [],
   "source": [
    "%reload_ext autoreload\n",
    "%autoreload 2\n",
    "%matplotlib inline"
   ]
  },
  {
   "cell_type": "code",
   "execution_count": 3,
   "metadata": {},
   "outputs": [],
   "source": [
    "from fastai.vision import *"
   ]
  },
  {
   "cell_type": "code",
   "execution_count": 4,
   "metadata": {},
   "outputs": [],
   "source": [
    "import ast\n",
    "import cv2"
   ]
  },
  {
   "cell_type": "code",
   "execution_count": 5,
   "metadata": {},
   "outputs": [],
   "source": [
    "# pip install kaggle --upgrade"
   ]
  },
  {
   "cell_type": "code",
   "execution_count": 6,
   "metadata": {},
   "outputs": [],
   "source": [
    "# ! mkdir -p ~/.kaggle/\n",
    "# ! mv kaggle.json ~/.kaggle/"
   ]
  },
  {
   "cell_type": "code",
   "execution_count": 7,
   "metadata": {},
   "outputs": [
    {
     "name": "stderr",
     "output_type": "stream",
     "text": [
      "/home/akshaye07/anaconda3/envs/fastai-v1/lib/python3.7/site-packages/fastai/datasets.py:164: YAMLLoadWarning: calling yaml.load() without Loader=... is deprecated, as the default Loader is unsafe. Please read https://msg.pyyaml.org/load for full details.\n",
      "  with open(fpath, 'r') as yaml_file: return yaml.load(yaml_file)\n"
     ]
    },
    {
     "data": {
      "text/plain": [
       "PosixPath('/home/akshaye07/.fastai/data/quickdraw')"
      ]
     },
     "execution_count": 7,
     "metadata": {},
     "output_type": "execute_result"
    }
   ],
   "source": [
    "path = Config.data_path()/'quickdraw'\n",
    "path.mkdir(parents=True, exist_ok=True)\n",
    "path"
   ]
  },
  {
   "cell_type": "code",
   "execution_count": 8,
   "metadata": {},
   "outputs": [],
   "source": [
    "# ! kaggle competitions download -c quickdraw-doodle-recognition -f train_simplified.zip -p {path} "
   ]
  },
  {
   "cell_type": "code",
   "execution_count": 9,
   "metadata": {},
   "outputs": [],
   "source": [
    "# ! unzip -q -n {path}/train_simplified.zip -d {path}"
   ]
  },
  {
   "cell_type": "code",
   "execution_count": 11,
   "metadata": {},
   "outputs": [],
   "source": [
    "STEPS = 500\n",
    "size = 256\n",
    "batchsize = 512\n",
    "BASE_SIZE = 256"
   ]
  },
  {
   "cell_type": "code",
   "execution_count": 13,
   "metadata": {},
   "outputs": [],
   "source": [
    "import time, sys\n",
    "from IPython.display import clear_output\n",
    "def update_progress(progress, count):\n",
    "    bar_length = 20\n",
    "    if isinstance(progress, int):\n",
    "        progress = float(progress)\n",
    "    if not isinstance(progress, float):\n",
    "        progress = 0\n",
    "    if progress < 0:\n",
    "        progress = 0\n",
    "    if progress >= 1:\n",
    "        progress = 1\n",
    "    block = int(round(bar_length * progress))\n",
    "    clear_output(wait = True)\n",
    "    text = \"Progress for class \" + str(count) + \": [{0}] {1:.1f}%\".format( \"#\" * block + \"-\" * (bar_length - block), progress * 100)\n",
    "    print(text)"
   ]
  },
  {
   "cell_type": "code",
   "execution_count": 15,
   "metadata": {},
   "outputs": [
    {
     "name": "stdout",
     "output_type": "stream",
     "text": [
      "Progress for class 46: [####################] 99.8%\n"
     ]
    }
   ],
   "source": [
    "count = 0\n",
    "for file in os.listdir(path):\n",
    "    count += 1\n",
    "    foldername = file.replace(\".csv\", '')\n",
    "    foldername = foldername.replace(' ','_')\n",
    "    pics_folder = path/'train_dat'/foldername\n",
    "    print(pics_folder)\n",
    "    pics_folder.mkdir(parents=True, exist_ok=True)\n",
    "    train = pd.read_csv(str(path) + '/' + file, index_col='key_id')\n",
    "    train = train[train.recognized == True]\n",
    "    first_ten_ids = train.iloc[:500].index\n",
    "    raw_images = [ast.literal_eval(lst) for lst in train.loc[first_ten_ids, 'drawing'].values]\n",
    "    for index, raw_drawing in enumerate(raw_images, 0):\n",
    "        update_progress(index/len(raw_images), count)\n",
    "        fig2 = plt.figure(figsize=(6,3))\n",
    "        for x,y in raw_drawing:\n",
    "            ax2 = plt.subplot(1,2,1)\n",
    "            plt.plot(x, y, 'k', marker='.')\n",
    "            ax2.axes.get_xaxis().set_visible(False)\n",
    "            ax2.axes.get_yaxis().set_visible(False)\n",
    "            plt.axis('off')\n",
    "        plt.gca().invert_yaxis()\n",
    "        fig2.savefig(str(pics_folder) + \"/\" + str(index) + \".png\", bbox_inches='tight', pad_inches=0)\n",
    "        plt.close(fig2)"
   ]
  }
 ],
 "metadata": {
  "kernelspec": {
   "display_name": "fastai-v1",
   "language": "python",
   "name": "fastai-v1"
  },
  "language_info": {
   "codemirror_mode": {
    "name": "ipython",
    "version": 3
   },
   "file_extension": ".py",
   "mimetype": "text/x-python",
   "name": "python",
   "nbconvert_exporter": "python",
   "pygments_lexer": "ipython3",
   "version": "3.7.2"
  }
 },
 "nbformat": 4,
 "nbformat_minor": 2
}
